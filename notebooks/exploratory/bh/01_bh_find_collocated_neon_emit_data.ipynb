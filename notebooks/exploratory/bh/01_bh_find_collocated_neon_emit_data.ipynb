{
 "cells": [
  {
   "cell_type": "markdown",
   "metadata": {},
   "source": [
    "# 1 Finding Co-located EMIT and NEON AOP Data\n",
    "\n",
    "**Summary**  \n",
    "\n",
    "The Earth surface Mineral dust source InvesTigation (EMIT) instrument is located on the International Space Station (ISS) and has collected data over a large area of the Continental US. The National Ecological Observatory Network (NEON) Airborne Observation Platform (AOP) collects aerial remote sensing data, including hyperspectral reflectance data over sites across the United States and Puerto Rico. In this notebook we will show how to utilize the [`earthaccess` Python library](https://github.com/nsidc/earthaccess) to find spatially overlapping EMIT and NEON reflectance data at NEON's [Soaproot Saddle](https://www.neonscience.org/field-sites/soap) site (SOAP) in California. In Sept 2020 and June 2021, the Creek Fire and Blue Fires burned portions of the site, so data at this site would be interesting to investigate wildfire disturbance and recovery.\n",
    "\n",
    "**Background**\n",
    "\n",
    "The **EMIT** instrument is an imaging spectrometer that measures light in visible (V) to short-wave (SWIR) infrared wavelengths; this is also referred to as a VSWIR sensor. These measurements display unique spectral signatures that correspond to the composition on the Earth's surface. The EMIT mission focuses specifically on mapping the composition of minerals to better understand the effects of mineral dust throughout the Earth system and human populations now and in the future. In addition, the EMIT instrument can be used in other applications, such as mapping of greenhouse gases, snow properties, and water resources.\n",
    "\n",
    "More details about EMIT and its associated products can be found on the [EMIT website](https://earth.jpl.nasa.gov/emit/) and [EMIT product pages](https://lpdaac.usgs.gov/product_search/?query=EMIT&status=Operational&view=cards&sort=title) hosted by the LP DAAC.\n",
    "\n",
    "The **NEON Imaging Spectrometer (NIS)** is an airborne [imaging spectrometer](https://www.neonscience.org/data-collection/imaging-spectrometer) built by JPL (AVIRIS-NG) and operated by the National Ecological Observatory Network's (NEON) Airborne Observation Platform (AOP). NEON's hyperspectral sensors collect measurements of sunlight reflected from the Earth's surface in 426 narrow (~5 nm) spectral channels spanning wavelengths between ~ 380 - 2500 nm. NEON's remote sensing data is intended to map and answer questions about a landscape, with ecological applications including identifying and classifying plant species and communities, mapping vegetation health, detecting disease or invasive species, and mapping droughts, wildfires, or other natural disturbances and their impacts. \n",
    "\n",
    "NEON surveys sites spanning the continental US, during peak phenological greenness, capturing each site 3 out of every 5 years, for most terrestrial sites. AOP's [Flight Schedules and Coverage](https://www.neonscience.org/data-collection/flight-schedules-coverage) provide's more information about the current and past schedules.\n",
    "\n",
    "More detailed information about NEON's airborne sampling design can be found in the paper: [Spanning scales: The airborne spatial and temporal sampling design of the National Ecological Observatory Network](https://besjournals.onlinelibrary.wiley.com/doi/10.1111/2041-210X.13942).\n",
    "\n",
    "**Requirements**  \n",
    " - [NASA Earthdata Account](https://urs.earthdata.nasa.gov/home)   \n",
    " - *No Python setup requirements if connected to the workshop cloud instance!*  \n",
    " - **Local Only** Set up Python Environment - See **setup_instructions.md** in the `/setup/` folder to set up a local compatible Python environment\n",
    "\n",
    " - NEON API Token (optional, but recommended), see [NEON API Tokens Tutorial](https://www.neonscience.org/resources/learning-hub/tutorials/neon-api-tokens-tutorial)\n",
    "\n",
    "**Download the NEON Flight Boundary Shapefile:** <a href=\"https://www.neonscience.org/sites/default/files/AOP_flightBoxes_0.zip\" class=\"link--button link--arrow\">AOP_flightBoxes.zip</a>\n",
    "\n",
    "**Learning Objectives**  \n",
    "- Use functions provided in an external Python module to find and download available NEON airborne reflectance data.\n",
    "- Use `earthaccess` to find EMIT data that overlaps with a NEON site.\n",
    "- How to export a list of files and download them programmatically.  \n",
    "\n",
    "**Tutorial Outline**  \n",
    "\n",
    "1. Setup\n",
    "2. Explore NEON sites and finding available NEON reflectance data\n",
    "3. Search for EMIT reflectance data  \n",
    "4. Organize and filter results\n",
    "5. Visualize intersecting NEON-EMIT coverage\n",
    "6. Create a list of EMIT asset URLs\n",
    "7. Download EMIT data"
   ]
  },
  {
   "cell_type": "markdown",
   "metadata": {},
   "source": [
    "## 1. Setup\n",
    "\n",
    "Import the required Python libraries."
   ]
  },
  {
   "cell_type": "code",
   "execution_count": 1,
   "metadata": {
    "tags": []
   },
   "outputs": [],
   "source": [
    "# Import required libraries\n",
    "import os, sys\n",
    "import requests\n",
    "import folium\n",
    "import earthaccess\n",
    "import warnings\n",
    "import folium.plugins\n",
    "import pandas as pd\n",
    "import geopandas as gpd\n",
    "import math\n",
    "import requests\n",
    "\n",
    "from zipfile import ZipFile\n",
    "from branca.element import Figure\n",
    "from IPython.display import display\n",
    "from shapely import geometry\n",
    "from skimage import io\n",
    "from datetime import timedelta\n",
    "from shapely.geometry.polygon import orient\n",
    "from matplotlib import pyplot as plt"
   ]
  },
  {
   "cell_type": "markdown",
   "metadata": {},
   "source": [
    "### 1.2 NEON Data API and Python Functions\n",
    "\n",
    "Note: In Sept-Oct 2024, these next two chunks of code can be replaced with the Python neonUtilities package, which has built in functions for downloading NEON AOP data."
   ]
  },
  {
   "cell_type": "code",
   "execution_count": 2,
   "metadata": {},
   "outputs": [],
   "source": [
    "# function to download data stored on the internet in a public url to a local file\n",
    "def download_url(url,download_dir):\n",
    "    if not os.path.isdir(download_dir):\n",
    "        os.makedirs(download_dir)\n",
    "    filename = url.split('/')[-1]\n",
    "    r = requests.get(url, allow_redirects=True)\n",
    "    file_object = open(os.path.join(download_dir,filename),'wb')\n",
    "    file_object.write(r.content)"
   ]
  },
  {
   "cell_type": "code",
   "execution_count": 3,
   "metadata": {},
   "outputs": [],
   "source": [
    "neon_code_folder = './neon_python_modules'\n",
    "aop_download_module_url = \"https://raw.githubusercontent.com/NEONScience/NEON-Data-Skills/main/tutorials/Python/AOP/aop_python_modules/neon_aop_download_functions.py\"\n",
    "download_url(aop_download_module_url,neon_code_folder)\n",
    "#os.listdir(neon_code_folder) #optionally show the contents of this directory to confirm the files downloaded\n",
    "\n",
    "# add the code folder to the path and import the neon aop download functions module\n",
    "sys.path.insert(0,neon_code_folder)\n",
    "import neon_aop_download_functions as aop_dl;"
   ]
  },
  {
   "cell_type": "markdown",
   "metadata": {},
   "source": [
    "### 1.3 NASA Earthdata Login Credentials\n",
    "\n",
    "To download or stream NASA data you will need an Earthdata account, you can create one [here](https://urs.earthdata.nasa.gov/home). We will use the `login` function from the `earthaccess` library for authentication before downloading at the end of the notebook. This function can also be used to create a local `.netrc` file if it doesn't exist or add your login info to an existing `.netrc` file. If no Earthdata Login credentials are found in the `.netrc` you'll be prompted for them. This step is not necessary to conduct searches but is needed to download or stream data."
   ]
  },
  {
   "cell_type": "markdown",
   "metadata": {},
   "source": [
    "## 2. Search for NEON and EMIT Data\n",
    "\n",
    "NEON data products are hosted on the NEON Data Portal, and can be accessed via an API. We will import a Python module including some functions that interact with the NEON data API to easily see what data are available (in what years), and download data.\n",
    "\n",
    "The EMIT products are hosted by the Land Processes Distributed Active Archive Center (LP DAAC). In this example we will use the cloud-hosted EMIT_L2A_RFL and ECOSTRESS_L2T_LSTE products available from the LP DAAC to find data. Any results we find for these products, should be available for other products within the EMIT and ECOSTRESS collections. \n",
    "\n",
    "To find data we will use the [`earthaccess` Python library](https://github.com/nsidc/earthaccess). `earthaccess` searches NASA's Common Metadata Repository (CMR), a metadata system that catalogs Earth Science data and associated metadata records. The results can then be used to download granules or generate lists of granule search result URLs.\n",
    "\n",
    "Using `earthaccess` we can search based on the attributes of a granule, which can be thought of as a spatiotemporal scene from an instrument containing multiple assets (ex: Reflectance, Reflectance Uncertainty, Masks for the EMIT L2A Reflectance Collection). We can search using attributes such as collection, acquisition time, and spatial footprint. This process can also be used with other EMIT or ECOSTRESS products, other collections, or different data providers, as well as across multiple catalogs with some modification. \n",
    "\n",
    "### 2.1 Define Spatial Regions of Interest (ROIs)\n",
    "\n",
    "For this example, our spatial region of interest (ROI) will be the NEON site [SOAP)](https://www.neonscience.org/field-sites/soap) in the Sierra National Forest, California.\n",
    "\n",
    "In this example, we will create a rectangular ROI surrounding the SOAP flight box. We will search for co-located EMIT data using a polygon rather than a standard bounding box in `earthaccess`. To search for intersections with a polygon using earthaccess, we need to format our ROI as a counterclockwise list of coordinate pairs. \n",
    "\n",
    "Download, Unzip, and Open the shape file (.shp) containing the AOP flight box boundaries, which can be downloaded from [NEON Spatial Data and Maps](https://www.neonscience.org/data-samples/data/spatial-data-maps). Read this into a `geodataframe`, explore the contents, and check the coordinate reference system (CRS) of the data."
   ]
  },
  {
   "cell_type": "code",
   "execution_count": 4,
   "metadata": {},
   "outputs": [],
   "source": [
    "# Download and Unzip the NEON Flight Boundary Shapefile\n",
    "neon_boundary_url = \"https://www.neonscience.org/sites/default/files/AOP_flightBoxes_0.zip\"\n",
    "# Use download_url function to save the file to a directory\n",
    "os.makedirs('./data', exist_ok=True)\n",
    "download_url(neon_boundary_url,'./data')\n",
    "# Unzip the file\n",
    "with ZipFile(f\"./data/{neon_boundary_url.split('/')[-1]}\", 'r') as zip_ref:\n",
    "    zip_ref.extractall('./data')"
   ]
  },
  {
   "cell_type": "code",
   "execution_count": 5,
   "metadata": {
    "scrolled": true
   },
   "outputs": [
    {
     "data": {
      "text/html": [
       "<div>\n",
       "<style scoped>\n",
       "    .dataframe tbody tr th:only-of-type {\n",
       "        vertical-align: middle;\n",
       "    }\n",
       "\n",
       "    .dataframe tbody tr th {\n",
       "        vertical-align: top;\n",
       "    }\n",
       "\n",
       "    .dataframe thead th {\n",
       "        text-align: right;\n",
       "    }\n",
       "</style>\n",
       "<table border=\"1\" class=\"dataframe\">\n",
       "  <thead>\n",
       "    <tr style=\"text-align: right;\">\n",
       "      <th></th>\n",
       "      <th>domain</th>\n",
       "      <th>domainName</th>\n",
       "      <th>siteName</th>\n",
       "      <th>siteID</th>\n",
       "      <th>siteType</th>\n",
       "      <th>sampleType</th>\n",
       "      <th>priority</th>\n",
       "      <th>version</th>\n",
       "      <th>flightbxID</th>\n",
       "      <th>geometry</th>\n",
       "    </tr>\n",
       "  </thead>\n",
       "  <tbody>\n",
       "    <tr>\n",
       "      <th>0</th>\n",
       "      <td>D01</td>\n",
       "      <td>Northeast</td>\n",
       "      <td>Bartlett Experimental Forest NEON</td>\n",
       "      <td>BART</td>\n",
       "      <td>Gradient</td>\n",
       "      <td>Terrestrial</td>\n",
       "      <td>1</td>\n",
       "      <td>1</td>\n",
       "      <td>D01_BART_R1_P1_v1</td>\n",
       "      <td>POLYGON ((-71.33426 43.99197, -71.33423 44.081...</td>\n",
       "    </tr>\n",
       "    <tr>\n",
       "      <th>1</th>\n",
       "      <td>D01</td>\n",
       "      <td>Northeast</td>\n",
       "      <td>Harvard Forest &amp; Quabbin Watershed NEON</td>\n",
       "      <td>HARV</td>\n",
       "      <td>Core</td>\n",
       "      <td>Terrestrial</td>\n",
       "      <td>1</td>\n",
       "      <td>1</td>\n",
       "      <td>D01_HARV_C1_P1_v1</td>\n",
       "      <td>POLYGON ((-72.14819 42.5751, -72.14776 42.3837...</td>\n",
       "    </tr>\n",
       "    <tr>\n",
       "      <th>2</th>\n",
       "      <td>D01</td>\n",
       "      <td>Northeast</td>\n",
       "      <td>Harvard Forest &amp; Quabbin Watershed NEON</td>\n",
       "      <td>HARV</td>\n",
       "      <td>Core</td>\n",
       "      <td>Terrestrial</td>\n",
       "      <td>3</td>\n",
       "      <td>1</td>\n",
       "      <td>D01_HARV_C1_P3_v1</td>\n",
       "      <td>POLYGON ((-72.10812 42.43653, -72.14788 42.436...</td>\n",
       "    </tr>\n",
       "    <tr>\n",
       "      <th>3</th>\n",
       "      <td>D01</td>\n",
       "      <td>Northeast</td>\n",
       "      <td>Lower Hop Brook NEON</td>\n",
       "      <td>HOPB</td>\n",
       "      <td>Core</td>\n",
       "      <td>Aquatic</td>\n",
       "      <td>2</td>\n",
       "      <td>1</td>\n",
       "      <td>D01_HOPB_C1_P2_v1</td>\n",
       "      <td>POLYGON ((-72.36635 42.46399, -72.36635 42.514...</td>\n",
       "    </tr>\n",
       "    <tr>\n",
       "      <th>4</th>\n",
       "      <td>D19</td>\n",
       "      <td>Taiga</td>\n",
       "      <td>Healy NEON</td>\n",
       "      <td>HEAL</td>\n",
       "      <td>Gradient</td>\n",
       "      <td>Terrestrial</td>\n",
       "      <td>1</td>\n",
       "      <td>1</td>\n",
       "      <td>D19_HEAL_R3_P1_v1</td>\n",
       "      <td>POLYGON ((-149.31505 63.82981, -149.31505 63.9...</td>\n",
       "    </tr>\n",
       "  </tbody>\n",
       "</table>\n",
       "</div>"
      ],
      "text/plain": [
       "  domain domainName                                 siteName siteID  siteType  \\\n",
       "0    D01  Northeast        Bartlett Experimental Forest NEON   BART  Gradient   \n",
       "1    D01  Northeast  Harvard Forest & Quabbin Watershed NEON   HARV      Core   \n",
       "2    D01  Northeast  Harvard Forest & Quabbin Watershed NEON   HARV      Core   \n",
       "3    D01  Northeast                     Lower Hop Brook NEON   HOPB      Core   \n",
       "4    D19      Taiga                               Healy NEON   HEAL  Gradient   \n",
       "\n",
       "    sampleType  priority  version         flightbxID  \\\n",
       "0  Terrestrial         1        1  D01_BART_R1_P1_v1   \n",
       "1  Terrestrial         1        1  D01_HARV_C1_P1_v1   \n",
       "2  Terrestrial         3        1  D01_HARV_C1_P3_v1   \n",
       "3      Aquatic         2        1  D01_HOPB_C1_P2_v1   \n",
       "4  Terrestrial         1        1  D19_HEAL_R3_P1_v1   \n",
       "\n",
       "                                            geometry  \n",
       "0  POLYGON ((-71.33426 43.99197, -71.33423 44.081...  \n",
       "1  POLYGON ((-72.14819 42.5751, -72.14776 42.3837...  \n",
       "2  POLYGON ((-72.10812 42.43653, -72.14788 42.436...  \n",
       "3  POLYGON ((-72.36635 42.46399, -72.36635 42.514...  \n",
       "4  POLYGON ((-149.31505 63.82981, -149.31505 63.9...  "
      ]
     },
     "execution_count": 5,
     "metadata": {},
     "output_type": "execute_result"
    }
   ],
   "source": [
    "aop_flightboxes = gpd.read_file(\"./data/AOP_flightBoxes/AOP_flightboxesAllSites.shp\")\n",
    "aop_flightboxes.head()"
   ]
  },
  {
   "cell_type": "code",
   "execution_count": 6,
   "metadata": {},
   "outputs": [
    {
     "data": {
      "text/plain": [
       "<Geographic 2D CRS: EPSG:4326>\n",
       "Name: WGS 84\n",
       "Axis Info [ellipsoidal]:\n",
       "- Lat[north]: Geodetic latitude (degree)\n",
       "- Lon[east]: Geodetic longitude (degree)\n",
       "Area of Use:\n",
       "- name: World.\n",
       "- bounds: (-180.0, -90.0, 180.0, 90.0)\n",
       "Datum: World Geodetic System 1984 ensemble\n",
       "- Ellipsoid: WGS 84\n",
       "- Prime Meridian: Greenwich"
      ]
     },
     "execution_count": 6,
     "metadata": {},
     "output_type": "execute_result"
    }
   ],
   "source": [
    "aop_flightboxes.crs"
   ]
  },
  {
   "cell_type": "markdown",
   "metadata": {},
   "source": [
    "The CRS is **EPSG:4326** (WGS84), which is also the CRS we want the data in to submit for our search of EMIT data.\n",
    "\n",
    "Next, let's examine the AOP flightboxes polygons further."
   ]
  },
  {
   "cell_type": "code",
   "execution_count": 7,
   "metadata": {},
   "outputs": [
    {
     "data": {
      "text/html": [
       "<div>\n",
       "<style scoped>\n",
       "    .dataframe tbody tr th:only-of-type {\n",
       "        vertical-align: middle;\n",
       "    }\n",
       "\n",
       "    .dataframe tbody tr th {\n",
       "        vertical-align: top;\n",
       "    }\n",
       "\n",
       "    .dataframe thead th {\n",
       "        text-align: right;\n",
       "    }\n",
       "</style>\n",
       "<table border=\"1\" class=\"dataframe\">\n",
       "  <thead>\n",
       "    <tr style=\"text-align: right;\">\n",
       "      <th></th>\n",
       "      <th>domain</th>\n",
       "      <th>domainName</th>\n",
       "      <th>siteName</th>\n",
       "      <th>siteID</th>\n",
       "      <th>siteType</th>\n",
       "      <th>sampleType</th>\n",
       "      <th>priority</th>\n",
       "      <th>version</th>\n",
       "      <th>flightbxID</th>\n",
       "      <th>geometry</th>\n",
       "    </tr>\n",
       "  </thead>\n",
       "  <tbody>\n",
       "    <tr>\n",
       "      <th>89</th>\n",
       "      <td>D17</td>\n",
       "      <td>Pacific Southwest</td>\n",
       "      <td>Soaproot Saddle NEON</td>\n",
       "      <td>SOAP</td>\n",
       "      <td>Gradient</td>\n",
       "      <td>Terrestrial</td>\n",
       "      <td>1</td>\n",
       "      <td>6</td>\n",
       "      <td>D17_SOAP_R1_P1_v6</td>\n",
       "      <td>POLYGON ((-119.29195 37.0143, -119.29192 37.10...</td>\n",
       "    </tr>\n",
       "    <tr>\n",
       "      <th>90</th>\n",
       "      <td>D17</td>\n",
       "      <td>Pacific Southwest</td>\n",
       "      <td>Soaproot Saddle NEON</td>\n",
       "      <td>SOAP</td>\n",
       "      <td>Gradient</td>\n",
       "      <td>Terrestrial</td>\n",
       "      <td>2</td>\n",
       "      <td>2</td>\n",
       "      <td>D17_SOAP_R1_P2_v2</td>\n",
       "      <td>POLYGON ((-119.32506 37.01417, -119.32506 37.0...</td>\n",
       "    </tr>\n",
       "    <tr>\n",
       "      <th>91</th>\n",
       "      <td>D17</td>\n",
       "      <td>Pacific Southwest</td>\n",
       "      <td>Soaproot Saddle NEON</td>\n",
       "      <td>SOAP</td>\n",
       "      <td>Gradient</td>\n",
       "      <td>Terrestrial</td>\n",
       "      <td>3</td>\n",
       "      <td>1</td>\n",
       "      <td>D17_SOAP_R1_P3_v1</td>\n",
       "      <td>POLYGON ((-119.31839 36.98832, -119.31839 37.0...</td>\n",
       "    </tr>\n",
       "  </tbody>\n",
       "</table>\n",
       "</div>"
      ],
      "text/plain": [
       "   domain         domainName              siteName siteID  siteType  \\\n",
       "89    D17  Pacific Southwest  Soaproot Saddle NEON   SOAP  Gradient   \n",
       "90    D17  Pacific Southwest  Soaproot Saddle NEON   SOAP  Gradient   \n",
       "91    D17  Pacific Southwest  Soaproot Saddle NEON   SOAP  Gradient   \n",
       "\n",
       "     sampleType  priority  version         flightbxID  \\\n",
       "89  Terrestrial         1        6  D17_SOAP_R1_P1_v6   \n",
       "90  Terrestrial         2        2  D17_SOAP_R1_P2_v2   \n",
       "91  Terrestrial         3        1  D17_SOAP_R1_P3_v1   \n",
       "\n",
       "                                             geometry  \n",
       "89  POLYGON ((-119.29195 37.0143, -119.29192 37.10...  \n",
       "90  POLYGON ((-119.32506 37.01417, -119.32506 37.0...  \n",
       "91  POLYGON ((-119.31839 36.98832, -119.31839 37.0...  "
      ]
     },
     "execution_count": 7,
     "metadata": {},
     "output_type": "execute_result"
    }
   ],
   "source": [
    "site_id = 'SOAP'\n",
    "aop_flightboxes[aop_flightboxes.siteID == site_id]"
   ]
  },
  {
   "cell_type": "markdown",
   "metadata": {},
   "source": [
    "We can see the site `geodataframe` consists of a single polygon, that we want to include in our study site (sometimes NEON sites may have more than one polygon, as there are sometimes multiple areas, with different priorities for collection)."
   ]
  },
  {
   "cell_type": "code",
   "execution_count": 8,
   "metadata": {
    "tags": []
   },
   "outputs": [],
   "source": [
    "# write this to a new variable called \"site_polygon\"\n",
    "site_polygon = aop_flightboxes[aop_flightboxes.siteID == site_id]\n",
    "# subset to only include columns of interest\n",
    "site_polygon = site_polygon[['domain','siteName','siteID','sampleType','flightbxID','priority','geometry']]"
   ]
  },
  {
   "cell_type": "code",
   "execution_count": 10,
   "metadata": {
    "tags": []
   },
   "outputs": [
    {
     "name": "stderr",
     "output_type": "stream",
     "text": [
      "C:\\Users\\stem2\\AppData\\Local\\Temp\\ipykernel_6316\\3985853426.py:2: DeprecationWarning: The 'unary_union' attribute is deprecated, use the 'union_all()' method instead.\n",
      "  site_roi_poly = site_polygon.unary_union.envelope\n",
      "C:\\Users\\stem2\\AppData\\Local\\Temp\\ipykernel_6316\\3985853426.py:4: DeprecationWarning: The 'unary_union' attribute is deprecated, use the 'union_all()' method instead.\n",
      "  site_roi_poly = site_polygon.unary_union.envelope\n"
     ]
    }
   ],
   "source": [
    "# Create external boundary of the shape\n",
    "site_roi_poly = site_polygon.unary_union.envelope\n",
    "# Re-order vertices to counterclockwise\n",
    "site_roi_poly = site_polygon.unary_union.envelope"
   ]
  },
  {
   "cell_type": "markdown",
   "metadata": {},
   "source": [
    "Make a `GeoDataFrame` consisting of the bounding box geometry."
   ]
  },
  {
   "cell_type": "code",
   "execution_count": null,
   "metadata": {
    "tags": []
   },
   "outputs": [],
   "source": [
    "site_df = pd.DataFrame({\"Name\":[\"SOAP ROI Bounding Box\"]})\n",
    "site_bbox = gpd.GeoDataFrame({\"Name\":[\"SOAP ROI Bounding Box\"], \"geometry\":[site_roi_poly]},crs=\"EPSG:4326\")\n",
    "site_bbox"
   ]
  },
  {
   "cell_type": "markdown",
   "metadata": {},
   "source": [
    "We can write this bounding box to a `geojson` file for use in future notebooks. This is commented out for now, but you can uncomment and run the cell below, if desired."
   ]
  },
  {
   "cell_type": "markdown",
   "metadata": {},
   "source": [
    "Next we can visualize our region of interest and the exterior boundary polygon containing ROIs. First add a function to help reformat bounding box coordinates to work with leaflet notation."
   ]
  },
  {
   "cell_type": "code",
   "execution_count": null,
   "metadata": {
    "tags": []
   },
   "outputs": [],
   "source": [
    "# Function to convert a bounding box for use in leaflet notation\n",
    "def convert_bounds(bbox, invert_y=False):\n",
    "    \"\"\"\n",
    "    Helper method for changing bounding box representation to leaflet notation\n",
    "\n",
    "    ``(lon1, lat1, lon2, lat2) -> ((lat1, lon1), (lat2, lon2))``\n",
    "    \"\"\"\n",
    "    x1, y1, x2, y2 = bbox\n",
    "    if invert_y:\n",
    "        y1, y2 = y2, y1\n",
    "    return ((y1, x1), (y2, x2))"
   ]
  },
  {
   "cell_type": "code",
   "execution_count": null,
   "metadata": {
    "tags": []
   },
   "outputs": [],
   "source": [
    "fig = Figure(width=\"750px\", height=\"375px\")\n",
    "map1 = folium.Map(tiles='https://mt1.google.com/vt/lyrs=y&x={x}&y={y}&z={z}', attr='Google')\n",
    "fig.add_child(map1)\n",
    "\n",
    "# Add Site Bounding Box\n",
    "folium.GeoJson(site_bbox, name='bounding_box').add_to(map1)\n",
    "\n",
    "# Add site roi geodataframe\n",
    "site_polygon.explore(\"flightbxID\",\n",
    "                     popup=True,\n",
    "                     categorical=True,\n",
    "                     cmap='Set3',\n",
    "                     style_kwds=dict(opacity=0.7, fillOpacity=0.4),\n",
    "                     name=\"SOAP ROI\",\n",
    "                     m=map1)\n",
    "\n",
    "map1.add_child(folium.LayerControl())\n",
    "map1.fit_bounds(bounds=convert_bounds(site_polygon.unary_union.bounds))\n",
    "display(fig)"
   ]
  },
  {
   "cell_type": "markdown",
   "metadata": {},
   "source": [
    "Above we can see the SOAP flightbox, and the exterior boundary polygon containing the full area."
   ]
  },
  {
   "cell_type": "markdown",
   "metadata": {},
   "source": [
    "Lastly, we need to convert our polygon to a list of coordinate pairs, to create our Region of Interest (ROI)."
   ]
  },
  {
   "cell_type": "code",
   "execution_count": null,
   "metadata": {
    "tags": []
   },
   "outputs": [],
   "source": [
    "# Set ROI as list of exterior polygon vertices as coordinate pairs\n",
    "site_roi = list(site_roi_poly.exterior.coords)\n",
    "site_roi"
   ]
  },
  {
   "cell_type": "markdown",
   "metadata": {},
   "source": [
    "Finally we can look at the available NEON hyperspectral reflectance data over the site. NEON hyperspectral reflectance data are currently available under two different revisions, as AOP is in the process of implementing a BRDF (Bidirectional Reflectance Distribution Function), but this has not been applied to the full archive of data yet. These data are available under two revisions of the data product ID DP3.30006 - DP3.30006.001 are the directional surface reflectance, and DP3.30006.002 are the bidirectional (BRDF- and topographic- corrected) surface reflectance. Let's see what's available for each of these data products."
   ]
  },
  {
   "cell_type": "code",
   "execution_count": null,
   "metadata": {},
   "outputs": [],
   "source": [
    "refl_rev1_dpid = 'DP3.30006.001'\n",
    "refl_rev2_dpid = 'DP3.30006.002'\n",
    "site = site_id"
   ]
  },
  {
   "cell_type": "code",
   "execution_count": null,
   "metadata": {},
   "outputs": [],
   "source": [
    "print(f'Directional Reflectance Data Available at NEON Site {site_id}')\n",
    "aop_dl.list_available_urls(refl_rev1_dpid,site)"
   ]
  },
  {
   "cell_type": "code",
   "execution_count": null,
   "metadata": {},
   "outputs": [],
   "source": [
    "print(f'Bidirectional Reflectance Data Available at NEON Site {site_id}')\n",
    "aop_dl.list_available_urls(refl_rev2_dpid,site)"
   ]
  },
  {
   "cell_type": "markdown",
   "metadata": {},
   "source": [
    "The bidirectional data for the 2nd 2023 and 2024 visits of SOAP may have some overlap with EMIT data. Let's start with 2024 AOP data."
   ]
  },
  {
   "cell_type": "code",
   "execution_count": null,
   "metadata": {},
   "outputs": [],
   "source": [
    "year = '2024'"
   ]
  },
  {
   "cell_type": "markdown",
   "metadata": {},
   "source": [
    "We can download the reflectance data using the function `aop_dl.download_aop_files`. You can change the download path if desired.\n",
    "\n",
    "Before we download the data, let's look at the spatial extent. AOP data are provided in UTM projection. We can do this by downloading shapefiles of the tile boundaries. These are available as metadata provided along with the reflectance data products. The full boundary of the site is a file called \"merged_tiles.shp/.shx\". Let's only download this shapefile so we can see the file extent, and determine the UTM coordinates of the tiles we wish to download."
   ]
  },
  {
   "cell_type": "code",
   "execution_count": null,
   "metadata": {},
   "outputs": [],
   "source": [
    "# aop_dl.download_aop_files?"
   ]
  },
  {
   "cell_type": "code",
   "execution_count": null,
   "metadata": {},
   "outputs": [],
   "source": [
    "# download the full-boundary shape files from the lidar data. These are delivered as metadata as part of one of the Lidar data products, so note that the data product id (DPID) is different\n",
    "# aop_dl.download_aop_files('DP1.30003.001',site,year,'./data/neon_refl',match_string='.shp',check_size=False)\n",
    "# aop_dl.download_aop_files('DP1.30003.001',site,year,'./data/neon_refl',match_string='.shx',check_size=False)"
   ]
  },
  {
   "cell_type": "markdown",
   "metadata": {},
   "source": [
    "The reflectance data can be large in size, so for now, we'll just download a single tile, in the center of the site. We can do that with the `download_aop_files` function as follows. This time leave out the `check_size` input parameter, and that will default to True. This will prompt you to download after displaying the download size. This reflectance file is ~615 MB, so make sure you have enough space on your local disk before downloading."
   ]
  },
  {
   "cell_type": "code",
   "execution_count": null,
   "metadata": {
    "scrolled": true
   },
   "outputs": [],
   "source": [
    "# download a reflectance hdf5 tile\n",
    "# aop_dl.download_aop_files('DP3.30006.002',site,year,'./data/neon_refl',match_string='568000_4901000_reflectance.h5')"
   ]
  },
  {
   "cell_type": "markdown",
   "metadata": {},
   "source": [
    "### 2.2 Define EMIT Collections of Interest\n",
    "We need to specify which products we want to search for. The best way to do this is using their concept-id. As mentioned above, we will conduct our search using the EMIT Level 2A Reflectance (EMITL2ARFL). We can do some quick collection queries using `earthaccess` to retrieve the concept-id for each dataset. "
   ]
  },
  {
   "cell_type": "code",
   "execution_count": null,
   "metadata": {
    "tags": []
   },
   "outputs": [],
   "source": [
    "# EMIT Collection Query\n",
    "emit_collection_query = earthaccess.collection_query().keyword('EMIT L2A Reflectance')\n",
    "emit_collection_query.fields(['ShortName','EntryTitle','Version']).get()"
   ]
  },
  {
   "cell_type": "markdown",
   "metadata": {},
   "source": [
    "If your search returns multiple products, be sure to select the right concept-id For this example it will be the first one. Create a list of these concept-ids for our data search."
   ]
  },
  {
   "cell_type": "code",
   "execution_count": null,
   "metadata": {
    "tags": []
   },
   "outputs": [],
   "source": [
    "# Data Collections for our search\n",
    "emit_concept_id = ['C2408750690-LPCLOUD']"
   ]
  },
  {
   "cell_type": "markdown",
   "metadata": {},
   "source": [
    "### 2.3 Define Date Range\n",
    "\n",
    "For our date range, we'll look at data collected between January 2022 and October 2023. The `date_range` can be specified as a pair of dates, start and end (up to, not including)."
   ]
  },
  {
   "cell_type": "code",
   "execution_count": null,
   "metadata": {
    "tags": []
   },
   "outputs": [],
   "source": [
    "# Define Date Range\n",
    "date_range = ('2022-01-01','2024-11-01')"
   ]
  },
  {
   "cell_type": "markdown",
   "metadata": {},
   "source": [
    "### 2.4 Searching\n",
    "\n",
    "Submit a query using `earthaccess`, usin the `site_roi` as the region of interest."
   ]
  },
  {
   "cell_type": "code",
   "execution_count": null,
   "metadata": {
    "tags": []
   },
   "outputs": [],
   "source": [
    "emit_query_results = earthaccess.search_data(\n",
    "    concept_id=emit_concept_id,\n",
    "    polygon=site_roi,\n",
    "    temporal=date_range,\n",
    "    count=500)"
   ]
  },
  {
   "cell_type": "markdown",
   "metadata": {},
   "source": [
    "\n",
    "## 3. Organizing and Filtering Results\n",
    "\n",
    "As we can see from above, the results object contains a list of objects with metadata and links. We can convert this to a more readable format, a dataframe. In addition, we can make it a geodataframe by taking the spatial metadata and creating a shapely polygon representing the spatial coverage, and further customize which information we want to use from other metadata fields.\n",
    "\n",
    "First, we define some functions to help us create a shapely object for our geodataframe, and retrieve the specific browse image URLs that we want. By default, the browse image selected by `earthaccess` is the first one in the list, but the ECO_L2_LSTE has several browse images, and we want to make sure we retrieve the `png` file, which is a preview of the LSTE."
   ]
  },
  {
   "cell_type": "code",
   "execution_count": null,
   "metadata": {
    "tags": []
   },
   "outputs": [],
   "source": [
    "# Function to create shapely polygon of spatial coverage\n",
    "def get_shapely_object(result:earthaccess.results.DataGranule):\n",
    "    # Get Geometry Keys\n",
    "    geo = result['umm']['SpatialExtent']['HorizontalSpatialDomain']['Geometry']\n",
    "    keys = geo.keys()\n",
    "\n",
    "    if 'BoundingRectangles' in keys:\n",
    "        bounding_rectangle = geo['BoundingRectangles'][0]\n",
    "        # Create bbox tuple\n",
    "        bbox_coords = (bounding_rectangle['WestBoundingCoordinate'],bounding_rectangle['SouthBoundingCoordinate'],\n",
    "                    bounding_rectangle['EastBoundingCoordinate'],bounding_rectangle['NorthBoundingCoordinate'])\n",
    "        # Create shapely geometry from bbox\n",
    "        shape = geometry.box(*bbox_coords, ccw=True)\n",
    "    elif 'GPolygons' in keys:\n",
    "        points = geo['GPolygons'][0]['Boundary']['Points']\n",
    "        # Create shapely geometry from polygons\n",
    "        shape = geometry.Polygon([[p['Longitude'],p['Latitude']] for p in points])\n",
    "    else:\n",
    "         raise ValueError('Provided result does not contain bounding boxes/polygons or is incompatible.')\n",
    "    return(shape)\n",
    "\n",
    "# Retrieve png browse image if it exists or first jpg in list of urls\n",
    "def get_png(result:earthaccess.results.DataGranule):\n",
    "    https_links = [link for link in result.dataviz_links() if 'https' in link]\n",
    "    if len(https_links) == 1:\n",
    "        browse = https_links[0]\n",
    "    elif len(https_links) == 0:\n",
    "        browse = 'no browse image'\n",
    "        warnings.warn(f\"There is no browse imagery for {result['umm']['GranuleUR']}.\")\n",
    "    else:\n",
    "        browse = [png for png in https_links if '.png' in png][0]\n",
    "    return(browse)"
   ]
  },
  {
   "cell_type": "markdown",
   "metadata": {},
   "source": [
    "Now that we have our functions we can create a dataframe, then calculate and add our shapely geometries to make a geodataframe. After that, add a column for our browse image urls and print the number of granules in our results, so we can monitor the quantity we  are working with a we winnow down to the data we want."
   ]
  },
  {
   "cell_type": "code",
   "execution_count": null,
   "metadata": {
    "tags": []
   },
   "outputs": [],
   "source": [
    "# Create Dataframe of Results Metadata\n",
    "emit_results_df = pd.json_normalize(emit_query_results)\n",
    "# Create shapely polygons for result\n",
    "geometries = [get_shapely_object(emit_query_results[index]) for index in emit_results_df.index.to_list()]\n",
    "# Convert to GeoDataframe\n",
    "emit_gdf = gpd.GeoDataFrame(emit_results_df, geometry=geometries, crs=\"EPSG:4326\")\n",
    "# Remove emit_results_df, no longer needed\n",
    "del emit_results_df\n",
    "# Add browse imagery links\n",
    "emit_gdf['browse'] = [get_png(granule) for granule in emit_query_results]\n",
    "emit_gdf['shortname'] = [result['umm']['CollectionReference']['ShortName'] for result in emit_query_results]\n",
    "# Preview GeoDataframe\n",
    "print(f'{emit_gdf.shape[0]} granules total')"
   ]
  },
  {
   "cell_type": "markdown",
   "metadata": {},
   "source": [
    "Optionally preview the geodataframe to get an idea what it looks like."
   ]
  },
  {
   "cell_type": "code",
   "execution_count": null,
   "metadata": {
    "tags": []
   },
   "outputs": [],
   "source": [
    "#emit_gdf.head()"
   ]
  },
  {
   "cell_type": "markdown",
   "metadata": {},
   "source": [
    "There are a lot of columns with data that is not relevant for this exercise, so we can drop those. To do that, list the names of columns."
   ]
  },
  {
   "cell_type": "code",
   "execution_count": null,
   "metadata": {
    "tags": []
   },
   "outputs": [],
   "source": [
    "# List Column Names\n",
    "# emit_gdf.columns"
   ]
  },
  {
   "cell_type": "markdown",
   "metadata": {},
   "source": [
    "Now create a list of columns to keep and use it to filter the dataframe."
   ]
  },
  {
   "cell_type": "code",
   "execution_count": null,
   "metadata": {
    "scrolled": true,
    "tags": []
   },
   "outputs": [],
   "source": [
    "# Create a list of columns to keep\n",
    "keep_cols = ['meta.concept-id','meta.native-id', 'umm.TemporalExtent.RangeDateTime.BeginningDateTime','umm.TemporalExtent.RangeDateTime.EndingDateTime','umm.CloudCover','umm.DataGranule.DayNightFlag','geometry','browse', 'shortname']\n",
    "# Remove unneeded columns\n",
    "emit_gdf = emit_gdf[emit_gdf.columns.intersection(keep_cols)]\n",
    "emit_gdf.head()"
   ]
  },
  {
   "cell_type": "markdown",
   "metadata": {},
   "source": [
    "This is looking better, but we can make it more readable by renaming our columns."
   ]
  },
  {
   "cell_type": "code",
   "execution_count": null,
   "metadata": {
    "tags": []
   },
   "outputs": [],
   "source": [
    "# Rename some Columns\n",
    "emit_gdf.rename(columns = {'meta.concept-id':'concept_id','meta.native-id':'granule',\n",
    "                           'umm.TemporalExtent.RangeDateTime.BeginningDateTime':'start_datetime',\n",
    "                           'umm.TemporalExtent.RangeDateTime.EndingDateTime':'end_datetime',\n",
    "                           'umm.CloudCover':'cloud_cover',\n",
    "                           'umm.DataGranule.DayNightFlag':'day_night'}, inplace=True)\n",
    "emit_gdf"
   ]
  },
  {
   "cell_type": "markdown",
   "metadata": {},
   "source": [
    "> **Note: If querying on-premises (not cloud) LP DAAC datasets, the `meta.concept-id` will not show as `xxxxxx-LPCLOUD`. For these datasets, the granule name can be retrieved from the `umm.DataGranule.Identifiers` column.**"
   ]
  },
  {
   "cell_type": "markdown",
   "metadata": {},
   "source": [
    "We can filter using the day/night flag as well, since we need a daytime collection to be comparable to the NEON data (which is captured at a high solar angle)."
   ]
  },
  {
   "cell_type": "code",
   "execution_count": null,
   "metadata": {
    "tags": []
   },
   "outputs": [],
   "source": [
    "# emit_gdf = emit_gdf[emit_gdf['day_night'].str.contains('Day')]"
   ]
  },
  {
   "cell_type": "markdown",
   "metadata": {},
   "source": [
    "Our first step toward filtering the datasets will be to add a column with a `datetime`. \n",
    "\n",
    "> **You may have noticed that the date format is similar for ECOSTRESS and EMIT, but the ECOSTRESS data also includes fractional seconds. If working locally using `lpdaac_vitals` python environment, you may need to pass the `format='ISO8601'`argument to the `to_datetime` function, as shown in the commented-out line due to a difference in versions of pandas.**"
   ]
  },
  {
   "cell_type": "code",
   "execution_count": null,
   "metadata": {
    "tags": []
   },
   "outputs": [],
   "source": [
    "#emit_gdf['datetime_obj'] = pd.to_datetime(emit_gdf['start_datetime']) # 2i2c\n",
    "emit_gdf['datetime_obj'] = pd.to_datetime(emit_gdf['start_datetime'], format='ISO8601') # Local ENV"
   ]
  },
  {
   "cell_type": "raw",
   "metadata": {},
   "source": [
    "We can roughly visualize the quantity of results by month at our location using a histogram with 10 bins (2022 - 2024)."
   ]
  },
  {
   "cell_type": "code",
   "execution_count": null,
   "metadata": {
    "tags": []
   },
   "outputs": [],
   "source": [
    "emit_gdf.hist(column='datetime_obj', by='shortname', bins=10, color='green', edgecolor='black', linewidth=1, sharey=True);"
   ]
  },
  {
   "cell_type": "markdown",
   "metadata": {},
   "source": [
    "\n",
    "## 4. Visualizing Intersecting Coverage\n",
    "\n",
    "Now that we have geodataframes containing some co-located data, we can visualize them on a map using `folium`. It's often difficult to visualize a large time-series of scenes, so we've included an example in Appendix A1 on how to filter to a single day."
   ]
  },
  {
   "cell_type": "code",
   "execution_count": null,
   "metadata": {
    "tags": []
   },
   "outputs": [],
   "source": [
    "# Plot Using Folium\n",
    "# Create Figure and Select Background Tiles\n",
    "fig = Figure(width=\"750px\", height=\"375px\")\n",
    "map1 = folium.Map(tiles='https://mt1.google.com/vt/lyrs=y&x={x}&y={y}&z={z}', attr='Google')\n",
    "fig.add_child(map1)\n",
    "\n",
    "# Add Site Bounding Box\n",
    "folium.GeoJson(site_bbox,\n",
    "                name='bounding_box',).add_to(map1)\n",
    "\n",
    "# Add roi geodataframe\n",
    "site_polygon.explore(\"flightbxID\",\n",
    "                      popup=True,\n",
    "                      categorical=True,\n",
    "                      cmap='Set3',\n",
    "                      style_kwds=dict(opacity=0.7, fillOpacity=0.4),\n",
    "                      name=\"SOAP ROI\",\n",
    "                      m=map1)\n",
    "\n",
    "# Plot STAC EMITL2ARFL Results - note we must drop the datetime_obj columns for this to work\n",
    "emit_gdf_clear.drop(columns=['datetime_obj']).explore(\n",
    "    \"granule\",\n",
    "    categorical=True,\n",
    "    tooltip=[\n",
    "        \"granule\",\n",
    "        \"start_datetime\",\n",
    "        \"cloud_cover\",\n",
    "    ],\n",
    "    popup=True,\n",
    "    style_kwds=dict(fillOpacity=0.1, width=2),\n",
    "    name=\"EMIT\",\n",
    "    m=map1,\n",
    "    legend=False\n",
    ")\n",
    "\n",
    "map1.fit_bounds(bounds=convert_bounds(emit_gdf.unary_union.bounds))\n",
    "map1.add_child(folium.LayerControl())\n",
    "display(fig)"
   ]
  },
  {
   "cell_type": "markdown",
   "metadata": {},
   "source": [
    "### 4.2 Previewing EMIT Browse Imagery\n",
    "The EMIT browse imagery is not orthorectified, so to get an idea what scenes look like, we can plot them in a grid using matplotlib.\n",
    "\n",
    "> Note: The black space is indicative of onboard cloud masking that occurs before data is downlinked from the ISS."
   ]
  },
  {
   "cell_type": "code",
   "execution_count": null,
   "metadata": {
    "tags": []
   },
   "outputs": [],
   "source": [
    "cols = 3\n",
    "rows = math.ceil(len(emit_gdf)/cols)\n",
    "fig, ax = plt.subplots(rows, cols, figsize=(20,20))\n",
    "ax = ax.flatten()\n",
    "\n",
    "for _n, index in enumerate(emit_gdf.index.to_list()):\n",
    "    img = io.imread(emit_gdf['browse'][index])\n",
    "    ax[_n].imshow(img)\n",
    "    ax[_n].set_title(f\"Index: {index} - {emit_gdf['granule'][index]}\")\n",
    "    ax[_n].axis('off')\n",
    "plt.tight_layout()\n",
    "plt.show()"
   ]
  },
  {
   "cell_type": "markdown",
   "metadata": {},
   "source": [
    "### 4.3 Further Filtering\n",
    "\n",
    "We can see that some of these granules likely won't work because of the large amount of cloud cover, we can use a list of these to filter them out. Make a list of indexes to filter out."
   ]
  },
  {
   "cell_type": "code",
   "execution_count": null,
   "metadata": {},
   "outputs": [],
   "source": [
    "# set a threshold for cloud cover and filter to remove scenes with >50% cloud cover\n",
    "emit_gdf_clear = emit_gdf[emit_gdf.cloud_cover < 30]\n",
    "emit_gdf_clear"
   ]
  },
  {
   "cell_type": "markdown",
   "metadata": {},
   "source": [
    "Filter out the bad granules."
   ]
  },
  {
   "cell_type": "markdown",
   "metadata": {},
   "source": [
    "We can see that there are some scenes with low (<30%) cloud cover. \n",
    "\n",
    "Let's take a look at the July 27, 2024 EMIT dataset (Index 15):\n",
    "\n",
    "- **20**: `EMIT_L2A_RFL_001_20240727T212942_2420914_005`\n",
    "\n",
    "We can plot this scene as follows:"
   ]
  },
  {
   "cell_type": "code",
   "execution_count": null,
   "metadata": {},
   "outputs": [],
   "source": [
    "fig, ax = plt.subplots(1, 1, figsize=(8,8))\n",
    "img = io.imread(emit_gdf['browse'][20])\n",
    "ax.imshow(img)\n",
    "ax.set_title(f\"{emit_gdf['granule'][20]}\")\n",
    "ax.axis('off')\n",
    "plt.tight_layout()\n",
    "plt.show()"
   ]
  },
  {
   "cell_type": "markdown",
   "metadata": {},
   "source": [
    "**We can now go back to our `folium` plot above and  re-run the cell to update it based on our filtering.**"
   ]
  },
  {
   "cell_type": "code",
   "execution_count": null,
   "metadata": {},
   "outputs": [],
   "source": [
    "emit_gdf_july_2023 = emit_gdf[emit_gdf['granule'] == 'EMIT_L2A_RFL_001_20230731T205320_2321214_004']"
   ]
  },
  {
   "cell_type": "code",
   "execution_count": null,
   "metadata": {},
   "outputs": [],
   "source": [
    "# Plot Using Folium\n",
    "# Create Figure and Select Background Tiles\n",
    "fig = Figure(width=\"750px\", height=\"375px\")\n",
    "map1 = folium.Map(tiles='https://mt1.google.com/vt/lyrs=y&x={x}&y={y}&z={z}', attr='Google')\n",
    "fig.add_child(map1)\n",
    "\n",
    "# Add the Site Bounding Box\n",
    "folium.GeoJson(site_bbox,\n",
    "                name='bounding_box',\n",
    "                ).add_to(map1)\n",
    "\n",
    "# Add roi geodataframe\n",
    "site_polygon.explore(\"flightbxID\",\n",
    "                      popup=True,\n",
    "                      categorical=True,\n",
    "                      cmap='Set3',\n",
    "                      style_kwds=dict(opacity=0.7, fillOpacity=0.4),\n",
    "                      name=\"SOAP ROI\",\n",
    "                      m=map1)\n",
    "\n",
    "# Plot STAC EMITL2ARFL Results - note we must drop the datetime_obj columns for this to work\n",
    "emit_gdf_july_2023.drop(columns=['datetime_obj']).explore(\n",
    "    \"granule\",\n",
    "    categorical=True,\n",
    "    tooltip=[\n",
    "        \"granule\",\n",
    "        \"start_datetime\",\n",
    "        \"cloud_cover\",\n",
    "    ],\n",
    "    popup=True,\n",
    "    style_kwds=dict(fillOpacity=0.1, width=2),\n",
    "    name=\"EMIT\",\n",
    "    m=map1,\n",
    "    legend=False\n",
    ")\n",
    "\n",
    "map1.fit_bounds(bounds=convert_bounds(emit_gdf.unary_union.bounds))\n",
    "map1.add_child(folium.LayerControl())\n",
    "display(fig)"
   ]
  },
  {
   "cell_type": "markdown",
   "metadata": {},
   "source": [
    "## 5. Generating a list of URLs and downloading data\n",
    "\n",
    "Creating a list of results URLs will include all of these assets, so if we only want a subset we need an additional filter to keep the specific assets we want.\n",
    "\n",
    "If you look back, you can see we kept the same indexing throughout the notebook. This enables us to simply subset the `earthaccess` results object to retrieve the results we want. \n",
    "\n",
    "Create a list of index values to keep."
   ]
  },
  {
   "cell_type": "code",
   "execution_count": null,
   "metadata": {
    "tags": []
   },
   "outputs": [],
   "source": [
    "keep_granules = [1]"
   ]
  },
  {
   "cell_type": "markdown",
   "metadata": {},
   "source": [
    "Filter the results list."
   ]
  },
  {
   "cell_type": "code",
   "execution_count": null,
   "metadata": {
    "tags": []
   },
   "outputs": [],
   "source": [
    "filtered_results = [result for i, result in enumerate(emit_query_results) if i in keep_granules]"
   ]
  },
  {
   "cell_type": "markdown",
   "metadata": {},
   "source": [
    "Now we can download all of the associated assets, or retrieve the URLS and further filter them to specifically what we want. \n",
    "\n",
    "First, log into Earthdata using the `login` function from the `earthaccess` library. The `persist=True` argument will create a local `.netrc` file if it doesn't exist, or add your login info to an existing `.netrc` file. If no Earthdata Login credentials are found in the `.netrc` you'll be prompted for them. As mentioned in section 1.2, this step is not necessary to conduct searches, but is needed to download or stream data."
   ]
  },
  {
   "cell_type": "code",
   "execution_count": null,
   "metadata": {},
   "outputs": [],
   "source": [
    "earthaccess.login()"
   ]
  },
  {
   "cell_type": "markdown",
   "metadata": {},
   "source": [
    "Now we can download all assets using the following cell."
   ]
  },
  {
   "cell_type": "code",
   "execution_count": null,
   "metadata": {
    "tags": []
   },
   "outputs": [],
   "source": [
    "# Download All Assets for Granules in Filtered Results\n",
    "earthaccess.download(filtered_results, '../data/SOAP/emit_refl')"
   ]
  },
  {
   "cell_type": "markdown",
   "metadata": {},
   "source": [
    "Or we can create a list of URLs and use that to further refine which files we download."
   ]
  },
  {
   "cell_type": "code",
   "execution_count": null,
   "metadata": {
    "tags": []
   },
   "outputs": [],
   "source": [
    "# Retrieve URLS for Assets\n",
    "results_urls = [granule.data_links() for granule in filtered_results]"
   ]
  },
  {
   "cell_type": "code",
   "execution_count": null,
   "metadata": {
    "tags": []
   },
   "outputs": [],
   "source": [
    "results_urls"
   ]
  },
  {
   "cell_type": "markdown",
   "metadata": {},
   "source": [
    "We can see this is a nested list. Granules often have several assets associated with them, for example, `EMIT_L2A` has several assets:\n",
    "\n",
    "- RFL\n",
    "- RFLUNCERT\n",
    "- MASK\n",
    "  \n",
    "The results list we just generated contains URLs to all of these assets nested by granule. We can further filter our results list using string matching to remove unwanted assets.\n",
    "\n",
    "Create a list of strings and enumerate through our results_url list to filter out unwanted assets and remove the nesting."
   ]
  },
  {
   "cell_type": "code",
   "execution_count": null,
   "metadata": {
    "tags": []
   },
   "outputs": [],
   "source": [
    "filtered_asset_links = []\n",
    "# Pick Desired Assets (leave _ on RFL to distinguish from RFLUNC, LST. to distinguish from LST_err)\n",
    "desired_assets = ['RFL_','MASK', 'LST.'] # Add more or do individually for reflectance, reflectance uncertainty, or mask\n",
    "# Step through each sublist (granule) and filter based on desired assets.\n",
    "for n, granule in enumerate(results_urls):\n",
    "    for url in granule: \n",
    "        asset_name = url.split('/')[-1]\n",
    "        if any(asset in asset_name for asset in desired_assets):\n",
    "            filtered_asset_links.append(url)\n",
    "filtered_asset_links"
   ]
  },
  {
   "cell_type": "markdown",
   "metadata": {},
   "source": [
    "We can see that this removed the `REFLUNCERT` data. We can also write this list of files to a text file to have a record of data used, or stream the data using `https` as we access them. For streaming the data, the EMIT files are very large, so operations can take some time."
   ]
  },
  {
   "cell_type": "code",
   "execution_count": null,
   "metadata": {
    "tags": []
   },
   "outputs": [],
   "source": [
    "with open('./data/emit_search_results.txt', 'w') as f:\n",
    "    for line in filtered_asset_links:\n",
    "        f.write(f\"{line}\\n\")"
   ]
  },
  {
   "cell_type": "markdown",
   "metadata": {},
   "source": [
    "Open the list of required granules.\n",
    "\n",
    ">Note: You can download all of the files using the cell below and recreate all of the canopy water content files following a workflow similar to the example in notebooks 2 and 3 for all of the necessary scenes. To do this, uncomment the `file_list` object with the `emit_search_results.txt` filepath to download all of the results rather than just what is required."
   ]
  },
  {
   "cell_type": "code",
   "execution_count": null,
   "metadata": {
    "tags": []
   },
   "outputs": [],
   "source": [
    "# Open Text File and Read Lines\n",
    "#file_list = './data/required_granules.txt'\n",
    "file_list = './data/emit_search_results.txt'\n",
    "with open(file_list) as f:\n",
    "    urls = [line.rstrip('\\n') for line in f]"
   ]
  },
  {
   "cell_type": "markdown",
   "metadata": {},
   "source": [
    "Download the required granules."
   ]
  },
  {
   "cell_type": "code",
   "execution_count": null,
   "metadata": {
    "tags": []
   },
   "outputs": [],
   "source": [
    "# Create a directory to store the downloaded emit data\n",
    "os.makedirs('./data/emit_refl', exist_ok=True)\n",
    "# Get requests https session using Earthdata Login Info\n",
    "fs = earthaccess.get_requests_https_session()\n",
    "# Retrieve granule asset ID from URL (to maintain existing naming convention)\n",
    "for url in urls:\n",
    "    granule_asset_id = url.split('/')[-1]\n",
    "    # Define Local Filepath\n",
    "    fp = f'./data/emit_refl/{granule_asset_id}'\n",
    "    # Download the Granule Asset if it doesn't exist\n",
    "    if not os.path.isfile(fp):\n",
    "        with fs.get(url,stream=True) as src:\n",
    "            with open(fp,'wb') as dst:\n",
    "                for chunk in src.iter_content(chunk_size=64*1024*1024):\n",
    "                    dst.write(chunk)"
   ]
  },
  {
   "cell_type": "markdown",
   "metadata": {},
   "source": [
    "Congratulations, now you have downloaded co-located hyperspectral reflectance data from NEON airborne collections and the EMIT instrument on the ISS."
   ]
  },
  {
   "cell_type": "markdown",
   "metadata": {},
   "source": [
    "## Contact Info:  \n",
    "\n",
    "**Land Processes Distributed Active Archive Center (LP DAAC)**<sup>1</sup>\n",
    "\n",
    "Email: LPDAAC@usgs.gov  \n",
    "Voice: +1-866-573-3222  \n",
    "Website: <https://lpdaac.usgs.gov/>  \n",
    "\n",
    "<sup>1</sup>Work performed under USGS contract G15PD00467 for NASA contract NNG14HH33I. \n",
    "\n",
    "**National Ecological Observatory Network (NEON)**<sup>2</sup>\n",
    "\n",
    "Website: <https://www.neonscience.org/>   \n",
    "Contact: <https://www.neonscience.org/about/contact-us>   \n",
    "Date last modified: 08-27-2024 \n",
    "\n",
    "<sup>2</sup>NEON is a project sponsored by the National Science Foundation and operated by Battelle."
   ]
  }
 ],
 "metadata": {
  "kernelspec": {
   "display_name": "Python 3 (ipykernel)",
   "language": "python",
   "name": "python3"
  },
  "language_info": {
   "codemirror_mode": {
    "name": "ipython",
    "version": 3
   },
   "file_extension": ".py",
   "mimetype": "text/x-python",
   "name": "python",
   "nbconvert_exporter": "python",
   "pygments_lexer": "ipython3",
   "version": "3.10.17"
  }
 },
 "nbformat": 4,
 "nbformat_minor": 4
}
