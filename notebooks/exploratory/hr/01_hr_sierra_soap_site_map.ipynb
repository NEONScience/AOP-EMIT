{
 "cells": [
  {
   "cell_type": "markdown",
   "metadata": {},
   "source": [
    "In this notebook I will create a site map of the Soaproot Saddle NEON field site within the Sierra National Forest in California using hvplot and geopandas."
   ]
  },
  {
   "cell_type": "code",
   "execution_count": null,
   "metadata": {},
   "outputs": [],
   "source": [
    "# import packages\n",
    "import os # make data directories\n",
    "import pathlib # work with file system paths\n",
    "\n",
    "import geopandas as gpd # work with geospatial data\n",
    "import hvplot.pandas # plot geodataframes\n",
    "import holoviews as hv # save plots"
   ]
  },
  {
   "cell_type": "markdown",
   "metadata": {},
   "source": [
    "For my habitat suitability assignment from the Spring 2025 GEOG 5563 course, I downloaded a dataset of National Forest boundaries. I will use the same dataset here from my existing spring-2025-habitat-suitability directory.\n",
    "\n",
    "The National Forest data set comes from [here](https://data-usfs.hub.arcgis.com/datasets/usfs::fs-national-forests-dataset-us-forest-service-proclaimed-forests/about). There is an API on that site, however when I used the API I was only able to download about ~30 national forest boundaries. To access ~150 national forest boundaries, I had to download the dataset to my computer. You may need to do this as well."
   ]
  },
  {
   "cell_type": "code",
   "execution_count": null,
   "metadata": {},
   "outputs": [],
   "source": [
    "# make reproducible file paths\n",
    "data_dir = os.path.join(\n",
    "    # home directory\n",
    "    pathlib.Path.home(),\n",
    "\n",
    "    # eda directory\n",
    "    'earth-analytics',\n",
    "    'data',\n",
    "\n",
    "    # project directory from habitat suitability\n",
    "    'spring-2025-habitat-suitability'\n",
    ")\n",
    "\n",
    "# make the directory\n",
    "os.makedirs(data_dir, exist_ok=True)"
   ]
  },
  {
   "cell_type": "code",
   "execution_count": null,
   "metadata": {},
   "outputs": [],
   "source": [
    "# set up path to save forest data\n",
    "forest_dir = os.path.join(data_dir, 'forest-dir')\n",
    "os.makedirs(forest_dir, exist_ok=True)\n",
    "\n",
    "forest_path = (\n",
    "    os.path.join(forest_dir,\n",
    "                 'FS_National_Forests_Dataset_(US_Forest_Service_Proclaimed_Forests).zip'))\n",
    "forest_path\n",
    "\n",
    "# open polygon\n",
    "forest_gdf = gpd.read_file(forest_path)\n",
    "forest_gdf"
   ]
  },
  {
   "cell_type": "code",
   "execution_count": null,
   "metadata": {},
   "outputs": [],
   "source": [
    "# create gdf for Sierra National Forest\n",
    "sierra_forest_gdf = forest_gdf[forest_gdf['FORESTNAME']=='Sierra National Forest']\n",
    "\n",
    "# check gdf\n",
    "sierra_forest_gdf"
   ]
  },
  {
   "cell_type": "code",
   "execution_count": null,
   "metadata": {},
   "outputs": [],
   "source": [
    "# plot Sierra National Forest\n",
    "sierra_forest_gdf.hvplot(\n",
    "    # treat the plot as geographic and assume lat/lon coordinates\n",
    "    geo = True,\n",
    "    # overlay the plot on EsriImagery tiles\n",
    "    tiles = 'EsriImagery',\n",
    "    # set title\n",
    "    title = 'Sierra National Forest, California, USA',\n",
    "    # set fill and line color\n",
    "    fill_color = None, line_color = 'pink',\n",
    "    line_width = 3,\n",
    "    frame_width = 475,\n",
    ")\n"
   ]
  },
  {
   "cell_type": "code",
   "execution_count": null,
   "metadata": {},
   "outputs": [],
   "source": [
    "# create a dictionary with the lat and lon of the Soaproot site\n",
    "soaproot_site_dict = {'site_name': ['Soaproot NEON Field Site'],\n",
    "                      'Latitude': [37.03337],\n",
    "                       'Longitude': [-119.26219]}"
   ]
  },
  {
   "cell_type": "code",
   "execution_count": null,
   "metadata": {},
   "outputs": [],
   "source": [
    "# create a geodataframe of the Soaproot site\n",
    "soaproot_site_gdf = (gpd.GeoDataFrame(\n",
    "    soaproot_site_dict,\n",
    "    geometry=gpd.points_from_xy(soaproot_site_dict['Longitude'],\n",
    "                                soaproot_site_dict['Latitude']),\n",
    "    crs = 'EPSG:4326'))\n",
    "soaproot_site_gdf"
   ]
  },
  {
   "cell_type": "code",
   "execution_count": null,
   "metadata": {},
   "outputs": [],
   "source": [
    "# plot Sierra National Forest w/ Soaproot Site\n",
    "sierra_soaproot_plot = (\n",
    "        (sierra_forest_gdf.hvplot(\n",
    "        # treat the plot as geographic and assume lat/lon coordinates\n",
    "        geo = True,\n",
    "        # overlay the plot on EsriImagery tiles\n",
    "        tiles = 'EsriImagery',\n",
    "        # set title\n",
    "        title = 'Sierra National Forest & Soaproot Saddle NEON Field Site, California, USA',\n",
    "        # set fill and line color\n",
    "        fill_color = None, line_color = 'pink',\n",
    "        line_width = 3,\n",
    "        frame_width = 475,\n",
    "        ))\n",
    "    *\n",
    "    (soaproot_site_gdf.hvplot(\n",
    "        # treat the plot as geographic and assume lat/lon coordinates\n",
    "        geo = True,\n",
    "        # overlay the plot on EsriImagery tiles\n",
    "        tiles = 'EsriImagery',\n",
    "        ))\n",
    ")\n",
    "sierra_soaproot_plot = sierra_soaproot_plot.opts(fontsize={'title': 10})\n",
    "sierra_soaproot_plot"
   ]
  },
  {
   "cell_type": "code",
   "execution_count": null,
   "metadata": {},
   "outputs": [],
   "source": [
    "# this is commented out in case the user doesn't want to save the plot\n",
    "# save the plot .html\n",
    "# hv.save(sierra_soaproot_plot,\n",
    "#        'Sierra-NF-and-Soaproot-NEON-Site-CA-USA.html')"
   ]
  },
  {
   "cell_type": "code",
   "execution_count": null,
   "metadata": {},
   "outputs": [],
   "source": []
  }
 ],
 "metadata": {
  "kernelspec": {
   "display_name": "Python 3 (ipykernel)",
   "language": "python",
   "name": "python3"
  },
  "language_info": {
   "codemirror_mode": {
    "name": "ipython",
    "version": 3
   },
   "file_extension": ".py",
   "mimetype": "text/x-python",
   "name": "python",
   "nbconvert_exporter": "python",
   "pygments_lexer": "ipython3",
   "version": "3.10.17"
  }
 },
 "nbformat": 4,
 "nbformat_minor": 4
}
