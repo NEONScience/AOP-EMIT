{
 "cells": [
  {
   "cell_type": "markdown",
   "id": "aaf8b6bc-b8f8-45f1-8cab-1a29abdcc389",
   "metadata": {},
   "source": [
    "NEON file downloaded: NEON_D17_SOAP_DP3_298000_4107000_reflectance\n",
    "This is just for 2019, I believe the data was gathered in June\n",
    "There is no provisional data\n",
    "\n",
    "Data citation:\n",
    "\n",
    "NEON (National Ecological Observatory Network). Spectrometer orthorectified surface directional reflectance - mosaic (DP3.30006.001), RELEASE-2025. https://doi.org/10.48443/49kq-8q12. Dataset accessed from https://data.neonscience.org/data-products/DP3.30006.001/RELEASE-2025 on April 28, 2025.\n",
    "\n",
    "This notebook follows this [NEON Data Skills Python Tutorial](https://github.com/NEONScience/NEON-Data-Skills/blob/main/tutorials/Python/AOP/Hyperspectral/intro-hyperspectral/intro-refl-h5/intro-l3-refl-h5.md)."
   ]
  },
  {
   "cell_type": "code",
   "execution_count": null,
   "id": "e230555f-f203-4db9-8e25-ace41b5a762f",
   "metadata": {},
   "outputs": [],
   "source": [
    "#import required packages\n",
    "import os\n",
    "import requests\n",
    "import numpy as np\n",
    "import h5py\n",
    "from osgeo import gdal\n",
    "import matplotlib.pyplot as plt"
   ]
  },
  {
   "cell_type": "code",
   "execution_count": null,
   "id": "e520d45d-7163-4579-a93d-1e839d96bec5",
   "metadata": {},
   "outputs": [],
   "source": [
    "# display the contents in the ./data folder to confirm the download completed\n",
    "os.listdir('./data')"
   ]
  },
  {
   "cell_type": "markdown",
   "id": "e1eb20b1-521a-4ba5-96d5-25b8adc4c180",
   "metadata": {},
   "source": [
    "I got this error when I ran the cell below: NotADirectoryError: [WinError 267] The directory name is invalid: './data/NEON_refl-surf-dir-ortho-mosaic.zip'.\n",
    "I assume this is because it is a zip file.\n",
    "To get around this for now, I moved the hdf5 file to the data folder"
   ]
  },
  {
   "cell_type": "code",
   "execution_count": null,
   "id": "bcb95a21-7d11-45d2-8656-277cb17cb439",
   "metadata": {},
   "outputs": [],
   "source": [
    "# display the contents in the ./data/NEON_refl-surf-dir-ortho-mosaic.zip folder to confirm the download completed\n",
    "#os.listdir('./data/NEON_refl-surf-dir-ortho-mosaic.zip')"
   ]
  },
  {
   "cell_type": "code",
   "execution_count": null,
   "id": "fdc64a6b-2c80-44cb-a494-b71265e9a6ae",
   "metadata": {},
   "outputs": [],
   "source": [
    "# display the contents in the ./data folder to confirm the hdf5 file moved correctly\n",
    "os.listdir('./data')"
   ]
  },
  {
   "cell_type": "markdown",
   "id": "3f874e7b-e5d8-45e4-b6b4-f5d01c6c72d4",
   "metadata": {},
   "source": [
    "## Read in the hdf5 file"
   ]
  },
  {
   "cell_type": "code",
   "execution_count": null,
   "id": "81ddb7a5-7c45-4064-b30b-9f3a7c6558f3",
   "metadata": {},
   "outputs": [],
   "source": [
    "# see what the h5py function does\n",
    "help(h5py)"
   ]
  },
  {
   "cell_type": "code",
   "execution_count": null,
   "id": "de437fde-adef-42db-95da-368d23e3b627",
   "metadata": {},
   "outputs": [],
   "source": [
    "# learn about h5py.File\n",
    "h5py.File?"
   ]
  },
  {
   "cell_type": "code",
   "execution_count": null,
   "id": "b26aa22a-d989-4bce-9577-ca9cd3587b4a",
   "metadata": {},
   "outputs": [],
   "source": [
    "# Note that you may need to update this filepath for your local machine\n",
    "# the 'r' indicates that this is in readonly mode\n",
    "f = h5py.File('./data/NEON_D17_SOAP_DP3_298000_4107000_reflectance.h5','r')\n",
    "\n",
    "# check file\n",
    "f"
   ]
  },
  {
   "cell_type": "markdown",
   "id": "9bd79165-2d57-49a6-a029-6786b9b1c2ef",
   "metadata": {},
   "source": [
    "## Explore NEON AOP HDF5 Reflectance Files"
   ]
  },
  {
   "cell_type": "code",
   "execution_count": null,
   "id": "f1a5c068-e532-4a7d-b27f-da71e5093d7c",
   "metadata": {},
   "outputs": [],
   "source": [
    "#list_dataset lists the names of datasets in an hdf5 file\n",
    "def list_dataset(name,node):\n",
    "    if isinstance(node, h5py.Dataset):\n",
    "        print(name)\n",
    "\n",
    "f.visititems(list_dataset)"
   ]
  },
  {
   "cell_type": "markdown",
   "id": "d6084019-41fc-44ea-adde-9c8c6f23e194",
   "metadata": {},
   "source": [
    "*from the tutorial:*\n",
    "\n",
    ">You can see that there is a lot of information stored inside this reflectance hdf5 file. Most of this information is metadata (data about the reflectance data), for example, this file stores input parameters used in the atmospheric correction. For this introductory lesson, we will only work with two of these datasets, the reflectance data (hyperspectral cube), and the corresponding geospatial information, stored in Metadata/Coordinate_System:\n",
    "\n",
    "> * SERC/Reflectance/Reflectance_Data\n",
    ">   \n",
    "> * SERC/Reflectance/Metadata/Coordinate_System/\n",
    "\n",
    "> We can also display the name, shape, and type of each of these datasets using the ls_dataset function defined below, which is also called with the visititems method:"
   ]
  },
  {
   "cell_type": "code",
   "execution_count": null,
   "id": "6cb17c17-c349-47cb-a092-5b46a1dd4ad7",
   "metadata": {},
   "outputs": [],
   "source": [
    "#ls_dataset displays the name, shape, and type of datasets in hdf5 file\n",
    "def ls_dataset(name,node):\n",
    "    if isinstance(node, h5py.Dataset):\n",
    "        print(node)"
   ]
  },
  {
   "cell_type": "code",
   "execution_count": null,
   "id": "543aab3f-04fb-4c1e-a64b-1df462ecf24d",
   "metadata": {},
   "outputs": [],
   "source": [
    "f.visititems(ls_dataset)"
   ]
  },
  {
   "cell_type": "markdown",
   "id": "0bed3498-72b2-4289-afae-cec912af3e6d",
   "metadata": {},
   "source": [
    "## Extract the reflectance data\n",
    "The reflectance data is nested under SOAP/Reflectance/Reflectance_Data:"
   ]
  },
  {
   "cell_type": "code",
   "execution_count": null,
   "id": "a67ba3e7-f1a7-4587-8a8c-044c3dd43b14",
   "metadata": {},
   "outputs": [],
   "source": [
    "soap_refl = f['SOAP']['Reflectance']\n",
    "print(soap_refl)"
   ]
  },
  {
   "cell_type": "markdown",
   "id": "4903d2bd-7544-4ddc-8a6d-4e53ce160ade",
   "metadata": {},
   "source": [
    "2 members = Metadata and Reflectance_Data.\n",
    "\n",
    "We will safe reflectance data as soap_reflarray"
   ]
  },
  {
   "cell_type": "code",
   "execution_count": null,
   "id": "30c71752-ee58-48ef-a9c4-5294f8b7c645",
   "metadata": {},
   "outputs": [],
   "source": [
    "soap_reflarray = soap_refl['Reflectance_Data']\n",
    "print(soap_reflarray)"
   ]
  },
  {
   "cell_type": "markdown",
   "id": "f319c406-5bec-4c05-97d1-b0c9b7972d55",
   "metadata": {},
   "source": [
    "Use shape method to extract the size of this reflectance array:"
   ]
  },
  {
   "cell_type": "code",
   "execution_count": null,
   "id": "5c16caa3-900b-4d15-ac11-033d768d4ea6",
   "metadata": {},
   "outputs": [],
   "source": [
    "refl_shape = soap_reflarray.shape\n",
    "print('SOAP Reflectance Data Dimensions:',refl_shape)"
   ]
  },
  {
   "cell_type": "markdown",
   "id": "f72d7c82-61d1-4138-bc04-aad30612304d",
   "metadata": {},
   "source": [
    "This is a 3D shape. The three dimensions are (y,x,bands).\n",
    "\n",
    "(x,y) are dimensions of the reflectance array in pixels. \n",
    "\n",
    "*from the tutorial:*\n",
    "\n",
    ">\"Hyperspectral data sets are often called \"cubes\" to reflect this 3-dimensional shape.\"\n",
    ">\n",
    ">\"NEON hyperspectral data contain around 426 spectral bands, and when working with tiled data, the spatial dimensions are 1000 x 1000, where each pixel represents 1 meter.\""
   ]
  },
  {
   "cell_type": "markdown",
   "id": "774562c7-c31b-4911-bbf9-ac136f7814f7",
   "metadata": {},
   "source": [
    "## Explore Wavelength Values\n",
    "\n",
    "Start by extracting wavelength info from soap_refl"
   ]
  },
  {
   "cell_type": "code",
   "execution_count": null,
   "id": "d72d1d40-ca36-4d7b-9da9-cbccb598c836",
   "metadata": {},
   "outputs": [],
   "source": [
    "#define the wavelengths variable\n",
    "wavelengths = soap_refl['Metadata']['Spectral_Data']['Wavelength']\n",
    "\n",
    "#View wavelength information and values\n",
    "print('wavelengths:',wavelengths)"
   ]
  },
  {
   "cell_type": "markdown",
   "id": "c2a13ba9-f024-45a2-bebd-8bd63954ee7d",
   "metadata": {},
   "source": [
    "Use numpy to see min and max wavelength values:"
   ]
  },
  {
   "cell_type": "code",
   "execution_count": null,
   "id": "9b36e113-7ef7-4fd0-a034-1a36ebcc7038",
   "metadata": {},
   "outputs": [],
   "source": [
    "# Display min & max wavelengths\n",
    "print('min wavelength:', np.amin(wavelengths),'nm')\n",
    "print('max wavelength:', np.amax(wavelengths),'nm')"
   ]
  },
  {
   "cell_type": "markdown",
   "id": "9c0acad9-696e-4247-9392-bc51728f8723",
   "metadata": {},
   "source": [
    "Find band widths (the distance btw center bands of two adjacent bands). We will do this for the first and last two bands.\n",
    "\n",
    "*from the tutorial:*\n",
    "\n",
    ">Remember that Python uses 0-based indexing ([0] represents the first value in an array), and note that you can also use negative numbers to splice values from the end of an array ([-1] represents the last value in an array)."
   ]
  },
  {
   "cell_type": "code",
   "execution_count": null,
   "id": "472ce94a-c8f1-405e-972c-8debec22fa81",
   "metadata": {},
   "outputs": [],
   "source": [
    "#show the band widths between the first 2 bands and last 2 bands \n",
    "print('band width between first 2 bands =',(wavelengths[1]-wavelengths[0]),'nm')\n",
    "print('band width between last 2 bands =',(wavelengths[-1]-wavelengths[-2]),'nm')"
   ]
  },
  {
   "cell_type": "markdown",
   "id": "4bb9ae95-1986-4bd9-abc1-9c6cf19ab80e",
   "metadata": {},
   "source": [
    "*from the tutorial:*\n",
    "\n",
    ">The center wavelengths recorded in this hyperspectral cube range from 383.88 - 2512.18 nm, and each band covers a range of ~5 nm. Now let's extract spatial information, which is stored under SOAP/Reflectance/Metadata/Coordinate_System/Map_Info:"
   ]
  },
  {
   "cell_type": "code",
   "execution_count": null,
   "id": "b32e35e7-3773-4913-8801-fde2dffdf20c",
   "metadata": {},
   "outputs": [],
   "source": [
    "soap_mapInfo = soap_refl['Metadata']['Coordinate_System']['Map_Info']\n",
    "print('SOAP Map Info:',soap_mapInfo)"
   ]
  },
  {
   "cell_type": "code",
   "execution_count": null,
   "id": "9d49abe9-28ef-4763-9e81-aa47707dadcd",
   "metadata": {},
   "outputs": [],
   "source": [
    "soap_mapInfo[()]"
   ]
  },
  {
   "cell_type": "markdown",
   "id": "1d5b7ac9-62da-497e-8a70-3cc037d915d5",
   "metadata": {},
   "source": [
    "The cell above yields spatial info abt the reflectance data:\n",
    "\n",
    "* UTM = CRS\n",
    "* 1.000, 1.000 - not sure what these are\n",
    "* 298000.00, 4108000.0 - UTM coordinates (in meters) of the map origin, which refers to the upper-left corner of the image (xMin, yMax)\n",
    "* 1.0000000, 1.0000000 - pixel resolution in meters\n",
    "* 11 = UTM zone\n",
    "* North = UTM Hemisphere (All NEON sites are N)\n",
    "* WGS-84 = reference ellipoid\n",
    "\n",
    "\n",
    "\n",
    "*from the tutorial:*\n",
    "\n",
    ">Note that the letter b that appears before UTM signifies that the variable-length string data is stored in binary format when it is written to the hdf5 file. Don't worry about it for now, as we will convert the numerical data we need into floating point numbers. For more information on hdf5 strings read the h5py documentation.\n",
    ">\n",
    "> You can display this in as a string as follows:\n",
    "> serc_mapInfo[()].decode(\"utf-8\")\n",
    ">\n",
    ">Let's extract relevant information from the Map_Info metadata to define the spatial extent of this dataset. To do this, we can use the split method to break up this string into separate values:"
   ]
  },
  {
   "cell_type": "code",
   "execution_count": null,
   "id": "2a78b4bb-80a0-46b1-8c18-0407d3ba9b56",
   "metadata": {},
   "outputs": [],
   "source": [
    "#First convert mapInfo to a string\n",
    "mapInfo_string = soap_mapInfo[()].decode(\"utf-8\") # read in as string"
   ]
  },
  {
   "cell_type": "code",
   "execution_count": null,
   "id": "d4971363-66df-469a-87ce-dc3e34b93468",
   "metadata": {},
   "outputs": [],
   "source": [
    "#split the strings using the separator \",\" \n",
    "mapInfo_split = mapInfo_string.split(\",\") \n",
    "print(mapInfo_split)"
   ]
  },
  {
   "cell_type": "markdown",
   "id": "5596d22e-13d8-46b7-be49-9ea97dc00b75",
   "metadata": {},
   "source": [
    "By doing that, we can extract spatial info from map info values and convert them to the float data type and store them so we can access and apply them later when we want to plot the data:"
   ]
  },
  {
   "cell_type": "code",
   "execution_count": null,
   "id": "4a07ad5d-0d82-4fef-b673-ab245b3a109b",
   "metadata": {},
   "outputs": [],
   "source": [
    "#Extract the resolution & convert to floating decimal number\n",
    "res = float(mapInfo_split[5]),float(mapInfo_split[6])\n",
    "print('Resolution:',res)"
   ]
  },
  {
   "cell_type": "code",
   "execution_count": null,
   "id": "ddfe5516-275a-4832-9171-d0dfe40a7ca4",
   "metadata": {},
   "outputs": [],
   "source": [
    "#Extract the upper left-hand corner coordinates from mapInfo\n",
    "xMin = float(mapInfo_split[3]) \n",
    "yMax = float(mapInfo_split[4])\n",
    "\n",
    "#Calculate the xMax and yMin values from the dimensions\n",
    "xMax = xMin + (refl_shape[1]*res[0]) #xMax = left edge + (# of columns * x pixel resolution)\n",
    "yMin = yMax - (refl_shape[0]*res[1]) #yMin = top edge - (# of rows * y pixel resolution)"
   ]
  },
  {
   "cell_type": "markdown",
   "id": "70a7fa5e-8e0e-436c-a112-b566bd2b0ed0",
   "metadata": {},
   "source": [
    "Next, we will define the spatial extent as a tuple (xMin, xMax, yMin, yMax) as this format is needed to apply the spatial extent when plotting w/ matplotlib.pyplot."
   ]
  },
  {
   "cell_type": "code",
   "execution_count": null,
   "id": "00a2fe92-5c02-4f8f-9284-63fe1088bec9",
   "metadata": {},
   "outputs": [],
   "source": [
    "#Define extent as a tuple:\n",
    "soap_ext = (xMin, xMax, yMin, yMax)\n",
    "print('soap_ext:',soap_ext)\n",
    "print('soap_ext type:',type(soap_ext))"
   ]
  },
  {
   "cell_type": "markdown",
   "id": "e00ea886-a960-4abe-ac03-ad52e1a1976c",
   "metadata": {},
   "source": [
    "## Extract a Single Band from Array\n",
    "We will extract a single band that represents a 5nm band (about) that approximates a single wavelength. This band is going to be extracted from the hyperspectral cube using splicing.\n",
    "\n",
    "The band we extract will be a 2D array that is 1000 x 1000. This array is the scaled reflectance data corresponding to wavelength band 56 (55 in the code as Python indexing starts at 0).\n",
    "\n",
    "We first have to cast the reflectance data into float values."
   ]
  },
  {
   "cell_type": "code",
   "execution_count": null,
   "id": "517d4e38-1b83-4b44-a2d1-62fd94f4acdb",
   "metadata": {},
   "outputs": [],
   "source": [
    "b56 = soap_reflarray[:,:,55].astype(float)\n",
    "print('b56 type:',type(b56))\n",
    "print('b56 shape:',b56.shape)\n",
    "print('Band 56 Reflectance:\\n',b56)"
   ]
  },
  {
   "cell_type": "markdown",
   "id": "44fbac0b-7f60-4a8e-93b2-bb92b5366f2e",
   "metadata": {},
   "source": [
    "## Clean the single band: Scale factor and No Data Value\n",
    "\n",
    "NEON AOP reflectance data uses a Data_Ignore_Value of -9999 to represent NaN values and a reflectance Scale_Factor of 10000.0 to save disk space.\n",
    "\n",
    "Extract & apply the Data_Ignore_Value and Scale_Factor:"
   ]
  },
  {
   "cell_type": "code",
   "execution_count": null,
   "id": "755fd65a-a206-46d9-a5d3-20b4e5fba5e2",
   "metadata": {},
   "outputs": [],
   "source": [
    "#View and apply scale factor and data ignore value\n",
    "scaleFactor = soap_reflarray.attrs['Scale_Factor']\n",
    "noDataValue = soap_reflarray.attrs['Data_Ignore_Value']\n",
    "print('Scale Factor:',scaleFactor)\n",
    "print('Data Ignore Value:',noDataValue)\n",
    "\n",
    "b56[b56==int(noDataValue)]=np.nan\n",
    "b56 = b56/scaleFactor\n",
    "print('Cleaned Band 56 Reflectance:\\n',b56)"
   ]
  },
  {
   "cell_type": "markdown",
   "id": "4455b9c3-2d65-43e8-92fe-d517969ffc46",
   "metadata": {},
   "source": [
    "## Plot single reflectance band\n",
    "\n",
    "Use matplotlib.pyplot (plt). Default colormap is jet, different colormaps [here](https://matplotlib.org/2.0.2/examples/color/colormaps_reference.html)."
   ]
  },
  {
   "cell_type": "code",
   "execution_count": null,
   "id": "7ff33fb4-a135-4d57-8a4c-d962b6dec7a8",
   "metadata": {},
   "outputs": [],
   "source": [
    "soap_56_plot = plt.imshow(b56,extent=soap_ext,cmap='Greys') "
   ]
  },
  {
   "cell_type": "markdown",
   "id": "4a95c538-71e4-452a-9b35-611ab27d8263",
   "metadata": {},
   "source": [
    "Since this image is sort of washed out, we can look at range and distribution of reflectance values that are being plotted w/ a histogram.\n",
    "\n",
    "## Plot histogram\n",
    "\n",
    "Use matplotlib.pyplot.hist fxn. This fxn doesn't work if there are NaN values so the code below ignores NaN values."
   ]
  },
  {
   "cell_type": "code",
   "execution_count": null,
   "id": "5141c540-81d7-4fbe-854c-39d88485772f",
   "metadata": {},
   "outputs": [],
   "source": [
    "plt.hist(b56[~np.isnan(b56)],50); #50 signifies the # of bins"
   ]
  },
  {
   "cell_type": "markdown",
   "id": "ef49ec72-4b67-43c8-a496-2625f04a0f7d",
   "metadata": {},
   "source": [
    "Most of the reflectance values are less than 0.2. To show more contrast, adjust the colorlimit (clim) to 0-0.2:"
   ]
  },
  {
   "cell_type": "code",
   "execution_count": null,
   "id": "9b3b4614-7e2d-4ff5-a0f7-9945dd63dc9b",
   "metadata": {},
   "outputs": [],
   "source": [
    "soap_56_plot = plt.imshow(b56,extent=soap_ext,cmap='Greys',clim=(0,0.2)) \n",
    "plt.title('SOAP Band 56 Reflectance');"
   ]
  },
  {
   "cell_type": "markdown",
   "id": "926a13e5-e995-4a45-856e-93e30a185481",
   "metadata": {},
   "source": [
    "## Extract band 53 (index 52)\n",
    "\n",
    "This band is either red, blue, or green."
   ]
  },
  {
   "cell_type": "code",
   "execution_count": null,
   "id": "8e448620-1d1c-4bd8-b2e4-c0287b509c53",
   "metadata": {},
   "outputs": [],
   "source": [
    "b53 = soap_reflarray[:,:,52].astype(float)\n",
    "print('b53 type:',type(b53))\n",
    "print('b53 shape:',b53.shape)\n",
    "print('Band 53 Reflectance:\\n',b53)"
   ]
  },
  {
   "cell_type": "code",
   "execution_count": null,
   "id": "a4e36895-ff00-49a7-a3bb-2446bd95b911",
   "metadata": {},
   "outputs": [],
   "source": [
    "# clean band 53\n",
    "#View and apply scale factor and data ignore value - commented out as this was done above\n",
    "# scaleFactor = soap_reflarray.attrs['Scale_Factor']\n",
    "# noDataValue = soap_reflarray.attrs['Data_Ignore_Value']\n",
    "# print('Scale Factor:',scaleFactor)\n",
    "# print('Data Ignore Value:',noDataValue)\n",
    "\n",
    "b53[b53==int(noDataValue)]=np.nan\n",
    "b53 = b53/scaleFactor\n",
    "print('Cleaned Band 53 Reflectance:\\n',b53)"
   ]
  },
  {
   "cell_type": "code",
   "execution_count": null,
   "id": "75d0317a-7cb9-424d-a772-25708e217807",
   "metadata": {},
   "outputs": [],
   "source": [
    "soap_53_plot = plt.imshow(b53,extent=soap_ext,cmap='Greys') "
   ]
  },
  {
   "cell_type": "code",
   "execution_count": null,
   "id": "0221d19a-91a8-4fbf-a6d2-7f8327177857",
   "metadata": {},
   "outputs": [],
   "source": [
    "# use histogram to check values\n",
    "plt.hist(b53[~np.isnan(b53)],50); #50 signifies the # of bins"
   ]
  },
  {
   "cell_type": "code",
   "execution_count": null,
   "id": "25b6a130-5a8e-4e1e-ade4-e16ca288faff",
   "metadata": {},
   "outputs": [],
   "source": [
    "# adjust color limit on plot\n",
    "soap_53_plot = plt.imshow(b53,extent=soap_ext,cmap='Greys',clim=(0,0.2)) \n",
    "plt.title('SOAP Band 53 Reflectance');"
   ]
  },
  {
   "cell_type": "markdown",
   "id": "14ac8aa3-4ebc-413d-8c99-c59777fe5f01",
   "metadata": {},
   "source": [
    "## Extract band 35 (index 34)\n",
    "\n",
    "Either red, blue, or green"
   ]
  },
  {
   "cell_type": "code",
   "execution_count": null,
   "id": "dca7a467-ff14-4848-9085-533541cdb09a",
   "metadata": {},
   "outputs": [],
   "source": [
    "b35 = soap_reflarray[:,:,34].astype(float)\n",
    "print('b35 type:',type(b35))\n",
    "print('b53 shape:',b35.shape)\n",
    "print('Band 35 Reflectance:\\n',b35)"
   ]
  },
  {
   "cell_type": "code",
   "execution_count": null,
   "id": "9d040743-19a3-48fe-9cc9-df471a9425ab",
   "metadata": {},
   "outputs": [],
   "source": [
    "# clean band 35\n",
    "#View and apply scale factor and data ignore value - commented out as this was done above\n",
    "# scaleFactor = soap_reflarray.attrs['Scale_Factor']\n",
    "# noDataValue = soap_reflarray.attrs['Data_Ignore_Value']\n",
    "# print('Scale Factor:',scaleFactor)\n",
    "# print('Data Ignore Value:',noDataValue)\n",
    "\n",
    "b35[b35==int(noDataValue)]=np.nan\n",
    "b35 = b35/scaleFactor\n",
    "print('Cleaned Band 35 Reflectance:\\n',b35)"
   ]
  },
  {
   "cell_type": "code",
   "execution_count": null,
   "id": "3de5f2d5-b24d-4be9-89f0-9119ac1be14d",
   "metadata": {},
   "outputs": [],
   "source": [
    "soap_35_plot = plt.imshow(b35,extent=soap_ext,cmap='Greys') "
   ]
  },
  {
   "cell_type": "code",
   "execution_count": null,
   "id": "5e291e74-9e2f-4171-9006-c8f9bef18464",
   "metadata": {},
   "outputs": [],
   "source": [
    "# use histogram to check values\n",
    "plt.hist(b35[~np.isnan(b35)],50); #50 signifies the # of bins"
   ]
  },
  {
   "cell_type": "code",
   "execution_count": null,
   "id": "9c7c89b8-cf01-4289-b13a-2737577c60be",
   "metadata": {},
   "outputs": [],
   "source": [
    "# adjust color limit on plot\n",
    "soap_35_plot = plt.imshow(b35,extent=soap_ext,cmap='Greys',clim=(0,0.2)) \n",
    "plt.title('SOAP Band 35 Reflectance');"
   ]
  },
  {
   "cell_type": "markdown",
   "id": "88d27f8c-83e4-48ec-91d8-83f86867aedf",
   "metadata": {},
   "source": [
    "## Extract band 19 (index 18)\n",
    "\n",
    "Either red, blue, or green"
   ]
  },
  {
   "cell_type": "code",
   "execution_count": null,
   "id": "ed169349-fc4a-4c5a-98a0-f24c47b3b630",
   "metadata": {},
   "outputs": [],
   "source": [
    "b19 = soap_reflarray[:,:,18].astype(float)\n",
    "print('b19 type:',type(b19))\n",
    "print('b19 shape:',b19.shape)\n",
    "print('Band 19 Reflectance:\\n',b19)"
   ]
  },
  {
   "cell_type": "code",
   "execution_count": null,
   "id": "2168c151-b52a-4cf0-88b2-286c516661fc",
   "metadata": {},
   "outputs": [],
   "source": [
    "# clean band 35\n",
    "#View and apply scale factor and data ignore value - commented out as this was done above\n",
    "# scaleFactor = soap_reflarray.attrs['Scale_Factor']\n",
    "# noDataValue = soap_reflarray.attrs['Data_Ignore_Value']\n",
    "# print('Scale Factor:',scaleFactor)\n",
    "# print('Data Ignore Value:',noDataValue)\n",
    "\n",
    "b19[b35==int(noDataValue)]=np.nan\n",
    "b19 = b19/scaleFactor\n",
    "print('Cleaned Band 19 Reflectance:\\n',b19)"
   ]
  },
  {
   "cell_type": "code",
   "execution_count": null,
   "id": "bfa65011-0b91-4749-af4f-658b6717c2cb",
   "metadata": {},
   "outputs": [],
   "source": [
    "soap_19_plot = plt.imshow(b19,extent=soap_ext,cmap='Greys') "
   ]
  },
  {
   "cell_type": "code",
   "execution_count": null,
   "id": "f970fa4d-c496-4943-958a-800f4b6d7ed1",
   "metadata": {},
   "outputs": [],
   "source": [
    "# use histogram to check values\n",
    "plt.hist(b19[~np.isnan(b19)],50); #50 signifies the # of bins"
   ]
  },
  {
   "cell_type": "code",
   "execution_count": null,
   "id": "703d0e3d-e18f-4557-bb66-85e233b10995",
   "metadata": {},
   "outputs": [],
   "source": [
    "# adjust color limit on plot\n",
    "soap_19_plot = plt.imshow(b19,extent=soap_ext,cmap='Greys',clim=(0,0.2)) \n",
    "plt.title('SOAP Band 19 Reflectance');"
   ]
  },
  {
   "cell_type": "code",
   "execution_count": null,
   "id": "e588020d-0e57-4af1-b1dd-7313daeef280",
   "metadata": {},
   "outputs": [],
   "source": []
  }
 ],
 "metadata": {
  "kernelspec": {
   "display_name": "Python 3 (ipykernel)",
   "language": "python",
   "name": "python3"
  },
  "language_info": {
   "codemirror_mode": {
    "name": "ipython",
    "version": 3
   },
   "file_extension": ".py",
   "mimetype": "text/x-python",
   "name": "python",
   "nbconvert_exporter": "python",
   "pygments_lexer": "ipython3",
   "version": "3.10.17"
  }
 },
 "nbformat": 4,
 "nbformat_minor": 5
}
